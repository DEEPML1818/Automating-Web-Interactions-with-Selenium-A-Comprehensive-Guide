{
 "cells": [
  {
   "cell_type": "code",
   "execution_count": null,
   "metadata": {},
   "outputs": [],
   "source": [
    "from selenium import webdriver\n",
    "\n",
    "# Initialize WebDriver (using Chrome in this example)\n",
    "driver = webdriver.Chrome(executable_path='path/to/chromedriver')"
   ]
  },
  {
   "cell_type": "code",
   "execution_count": null,
   "metadata": {},
   "outputs": [],
   "source": [
    "# Navigate to a website\n",
    "driver.get(\"https://www.example.com\")"
   ]
  },
  {
   "cell_type": "code",
   "execution_count": null,
   "metadata": {},
   "outputs": [],
   "source": [
    "# Locate and interact with elements\n",
    "search_box = driver.find_element(By.NAME, \"q\")\n",
    "search_box.send_keys(\"Selenium\")\n",
    "\n",
    "search_button = driver.find_element(By.NAME, \"btnK\")\n",
    "search_button.click()"
   ]
  },
  {
   "cell_type": "code",
   "execution_count": null,
   "metadata": {},
   "outputs": [],
   "source": [
    "# Wait for results to load using explicit wait\n",
    "try:\n",
    "    results = WebDriverWait(driver, 10).until(\n",
    "        EC.presence_of_element_located((By.ID, \"search\"))\n",
    "    )\n",
    "    print(\"Search results loaded successfully!\")\n",
    "except Exception as e:\n",
    "    print(f\"Error: {e}\")"
   ]
  },
  {
   "cell_type": "code",
   "execution_count": null,
   "metadata": {},
   "outputs": [],
   "source": [
    "# Handling alerts\n",
    "try:\n",
    "    alert = driver.switch_to.alert\n",
    "    alert_text = alert.text\n",
    "    print(f\"Alert Text: {alert_text}\")\n",
    "    alert.accept()\n",
    "except Exception as e:\n",
    "    print(f\"No alert present. {e}\")\n",
    "\n",
    "# Navigating back and forward\n",
    "driver.back()\n",
    "driver.forward()"
   ]
  }
 ],
 "metadata": {
  "language_info": {
   "name": "python"
  },
  "orig_nbformat": 4
 },
 "nbformat": 4,
 "nbformat_minor": 2
}
